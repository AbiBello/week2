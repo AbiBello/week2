{
 "metadata": {
  "language_info": {
   "codemirror_mode": {
    "name": "ipython",
    "version": 3
   },
   "file_extension": ".py",
   "mimetype": "text/x-python",
   "name": "python",
   "nbconvert_exporter": "python",
   "pygments_lexer": "ipython3",
   "version": "3.8.3-final"
  },
  "orig_nbformat": 2,
  "kernelspec": {
   "name": "python3",
   "display_name": "Python 3"
  }
 },
 "nbformat": 4,
 "nbformat_minor": 2,
 "cells": [
  {
   "cell_type": "code",
   "execution_count": 4,
   "metadata": {},
   "outputs": [
    {
     "output_type": "execute_result",
     "data": {
      "text/plain": [
       "                                  Film    Genre            Lead Studio  \\\n",
       "0           Zack and Miri Make a Porno  Romance  The Weinstein Company   \n",
       "1                      Youth in Revolt   Comedy  The Weinstein Company   \n",
       "2   You Will Meet a Tall Dark Stranger   Comedy            Independent   \n",
       "3                         When in Rome   Comedy                 Disney   \n",
       "4                What Happens in Vegas   Comedy                    Fox   \n",
       "..                                 ...      ...                    ...   \n",
       "72                 Across the Universe  romance            Independent   \n",
       "73                       A Serious Man    Drama              Universal   \n",
       "74                  A Dangerous Method    Drama            Independent   \n",
       "75                          27 Dresses   Comedy                    Fox   \n",
       "76                (500) Days of Summer   comedy                    Fox   \n",
       "\n",
       "    Audience score %  Profitability  Rotten Tomatoes % Worldwide Gross  Year  \n",
       "0                 70       1.747542                 64         $41.94   2008  \n",
       "1                 52       1.090000                 68         $19.62   2010  \n",
       "2                 35       1.211818                 43         $26.66   2010  \n",
       "3                 44       0.000000                 15         $43.04   2010  \n",
       "4                 72       6.267647                 28        $219.37   2008  \n",
       "..               ...            ...                ...             ...   ...  \n",
       "72                84       0.652603                 54         $29.37   2007  \n",
       "73                64       4.382857                 89         $30.68   2009  \n",
       "74                89       0.448645                 79          $8.97   2011  \n",
       "75                71       5.343622                 40        $160.31   2008  \n",
       "76                81       8.096000                 87         $60.72   2009  \n",
       "\n",
       "[77 rows x 8 columns]"
      ],
      "text/html": "<div>\n<style scoped>\n    .dataframe tbody tr th:only-of-type {\n        vertical-align: middle;\n    }\n\n    .dataframe tbody tr th {\n        vertical-align: top;\n    }\n\n    .dataframe thead th {\n        text-align: right;\n    }\n</style>\n<table border=\"1\" class=\"dataframe\">\n  <thead>\n    <tr style=\"text-align: right;\">\n      <th></th>\n      <th>Film</th>\n      <th>Genre</th>\n      <th>Lead Studio</th>\n      <th>Audience score %</th>\n      <th>Profitability</th>\n      <th>Rotten Tomatoes %</th>\n      <th>Worldwide Gross</th>\n      <th>Year</th>\n    </tr>\n  </thead>\n  <tbody>\n    <tr>\n      <th>0</th>\n      <td>Zack and Miri Make a Porno</td>\n      <td>Romance</td>\n      <td>The Weinstein Company</td>\n      <td>70</td>\n      <td>1.747542</td>\n      <td>64</td>\n      <td>$41.94</td>\n      <td>2008</td>\n    </tr>\n    <tr>\n      <th>1</th>\n      <td>Youth in Revolt</td>\n      <td>Comedy</td>\n      <td>The Weinstein Company</td>\n      <td>52</td>\n      <td>1.090000</td>\n      <td>68</td>\n      <td>$19.62</td>\n      <td>2010</td>\n    </tr>\n    <tr>\n      <th>2</th>\n      <td>You Will Meet a Tall Dark Stranger</td>\n      <td>Comedy</td>\n      <td>Independent</td>\n      <td>35</td>\n      <td>1.211818</td>\n      <td>43</td>\n      <td>$26.66</td>\n      <td>2010</td>\n    </tr>\n    <tr>\n      <th>3</th>\n      <td>When in Rome</td>\n      <td>Comedy</td>\n      <td>Disney</td>\n      <td>44</td>\n      <td>0.000000</td>\n      <td>15</td>\n      <td>$43.04</td>\n      <td>2010</td>\n    </tr>\n    <tr>\n      <th>4</th>\n      <td>What Happens in Vegas</td>\n      <td>Comedy</td>\n      <td>Fox</td>\n      <td>72</td>\n      <td>6.267647</td>\n      <td>28</td>\n      <td>$219.37</td>\n      <td>2008</td>\n    </tr>\n    <tr>\n      <th>...</th>\n      <td>...</td>\n      <td>...</td>\n      <td>...</td>\n      <td>...</td>\n      <td>...</td>\n      <td>...</td>\n      <td>...</td>\n      <td>...</td>\n    </tr>\n    <tr>\n      <th>72</th>\n      <td>Across the Universe</td>\n      <td>romance</td>\n      <td>Independent</td>\n      <td>84</td>\n      <td>0.652603</td>\n      <td>54</td>\n      <td>$29.37</td>\n      <td>2007</td>\n    </tr>\n    <tr>\n      <th>73</th>\n      <td>A Serious Man</td>\n      <td>Drama</td>\n      <td>Universal</td>\n      <td>64</td>\n      <td>4.382857</td>\n      <td>89</td>\n      <td>$30.68</td>\n      <td>2009</td>\n    </tr>\n    <tr>\n      <th>74</th>\n      <td>A Dangerous Method</td>\n      <td>Drama</td>\n      <td>Independent</td>\n      <td>89</td>\n      <td>0.448645</td>\n      <td>79</td>\n      <td>$8.97</td>\n      <td>2011</td>\n    </tr>\n    <tr>\n      <th>75</th>\n      <td>27 Dresses</td>\n      <td>Comedy</td>\n      <td>Fox</td>\n      <td>71</td>\n      <td>5.343622</td>\n      <td>40</td>\n      <td>$160.31</td>\n      <td>2008</td>\n    </tr>\n    <tr>\n      <th>76</th>\n      <td>(500) Days of Summer</td>\n      <td>comedy</td>\n      <td>Fox</td>\n      <td>81</td>\n      <td>8.096000</td>\n      <td>87</td>\n      <td>$60.72</td>\n      <td>2009</td>\n    </tr>\n  </tbody>\n</table>\n<p>77 rows × 8 columns</p>\n</div>"
     },
     "metadata": {},
     "execution_count": 4
    }
   ],
   "source": [
    "import pandas as pd \n",
    "\n",
    "df = pd.read_csv(\"movies.csv\")\n",
    "df"
   ]
  },
  {
   "cell_type": "code",
   "execution_count": 15,
   "metadata": {},
   "outputs": [
    {
     "output_type": "execute_result",
     "data": {
      "text/plain": [
       "(77, 8)"
      ]
     },
     "metadata": {},
     "execution_count": 15
    }
   ],
   "source": [
    "df.shape"
   ]
  },
  {
   "cell_type": "code",
   "execution_count": 5,
   "metadata": {},
   "outputs": [
    {
     "output_type": "execute_result",
     "data": {
      "text/plain": [
       "                                 Film      Genre            Lead Studio  \\\n",
       "0          Zack and Miri Make a Porno    Romance  The Weinstein Company   \n",
       "1                     Youth in Revolt     Comedy  The Weinstein Company   \n",
       "2  You Will Meet a Tall Dark Stranger     Comedy            Independent   \n",
       "3                        When in Rome     Comedy                 Disney   \n",
       "4               What Happens in Vegas     Comedy                    Fox   \n",
       "5                 Water For Elephants      Drama       20th Century Fox   \n",
       "6                              WALL-E  Animation                 Disney   \n",
       "7                            Waitress    Romance            Independent   \n",
       "8                 Waiting For Forever    Romance            Independent   \n",
       "9                     Valentine's Day     Comedy           Warner Bros.   \n",
       "\n",
       "   Audience score %  Profitability  Rotten Tomatoes % Worldwide Gross  Year  \n",
       "0                70       1.747542                 64         $41.94   2008  \n",
       "1                52       1.090000                 68         $19.62   2010  \n",
       "2                35       1.211818                 43         $26.66   2010  \n",
       "3                44       0.000000                 15         $43.04   2010  \n",
       "4                72       6.267647                 28        $219.37   2008  \n",
       "5                72       3.081421                 60        $117.09   2011  \n",
       "6                89       2.896019                 96        $521.28   2008  \n",
       "7                67      11.089741                 89         $22.18   2007  \n",
       "8                53       0.005000                  6          $0.03   2011  \n",
       "9                54       4.184038                 17        $217.57   2010  "
      ],
      "text/html": "<div>\n<style scoped>\n    .dataframe tbody tr th:only-of-type {\n        vertical-align: middle;\n    }\n\n    .dataframe tbody tr th {\n        vertical-align: top;\n    }\n\n    .dataframe thead th {\n        text-align: right;\n    }\n</style>\n<table border=\"1\" class=\"dataframe\">\n  <thead>\n    <tr style=\"text-align: right;\">\n      <th></th>\n      <th>Film</th>\n      <th>Genre</th>\n      <th>Lead Studio</th>\n      <th>Audience score %</th>\n      <th>Profitability</th>\n      <th>Rotten Tomatoes %</th>\n      <th>Worldwide Gross</th>\n      <th>Year</th>\n    </tr>\n  </thead>\n  <tbody>\n    <tr>\n      <th>0</th>\n      <td>Zack and Miri Make a Porno</td>\n      <td>Romance</td>\n      <td>The Weinstein Company</td>\n      <td>70</td>\n      <td>1.747542</td>\n      <td>64</td>\n      <td>$41.94</td>\n      <td>2008</td>\n    </tr>\n    <tr>\n      <th>1</th>\n      <td>Youth in Revolt</td>\n      <td>Comedy</td>\n      <td>The Weinstein Company</td>\n      <td>52</td>\n      <td>1.090000</td>\n      <td>68</td>\n      <td>$19.62</td>\n      <td>2010</td>\n    </tr>\n    <tr>\n      <th>2</th>\n      <td>You Will Meet a Tall Dark Stranger</td>\n      <td>Comedy</td>\n      <td>Independent</td>\n      <td>35</td>\n      <td>1.211818</td>\n      <td>43</td>\n      <td>$26.66</td>\n      <td>2010</td>\n    </tr>\n    <tr>\n      <th>3</th>\n      <td>When in Rome</td>\n      <td>Comedy</td>\n      <td>Disney</td>\n      <td>44</td>\n      <td>0.000000</td>\n      <td>15</td>\n      <td>$43.04</td>\n      <td>2010</td>\n    </tr>\n    <tr>\n      <th>4</th>\n      <td>What Happens in Vegas</td>\n      <td>Comedy</td>\n      <td>Fox</td>\n      <td>72</td>\n      <td>6.267647</td>\n      <td>28</td>\n      <td>$219.37</td>\n      <td>2008</td>\n    </tr>\n    <tr>\n      <th>5</th>\n      <td>Water For Elephants</td>\n      <td>Drama</td>\n      <td>20th Century Fox</td>\n      <td>72</td>\n      <td>3.081421</td>\n      <td>60</td>\n      <td>$117.09</td>\n      <td>2011</td>\n    </tr>\n    <tr>\n      <th>6</th>\n      <td>WALL-E</td>\n      <td>Animation</td>\n      <td>Disney</td>\n      <td>89</td>\n      <td>2.896019</td>\n      <td>96</td>\n      <td>$521.28</td>\n      <td>2008</td>\n    </tr>\n    <tr>\n      <th>7</th>\n      <td>Waitress</td>\n      <td>Romance</td>\n      <td>Independent</td>\n      <td>67</td>\n      <td>11.089741</td>\n      <td>89</td>\n      <td>$22.18</td>\n      <td>2007</td>\n    </tr>\n    <tr>\n      <th>8</th>\n      <td>Waiting For Forever</td>\n      <td>Romance</td>\n      <td>Independent</td>\n      <td>53</td>\n      <td>0.005000</td>\n      <td>6</td>\n      <td>$0.03</td>\n      <td>2011</td>\n    </tr>\n    <tr>\n      <th>9</th>\n      <td>Valentine's Day</td>\n      <td>Comedy</td>\n      <td>Warner Bros.</td>\n      <td>54</td>\n      <td>4.184038</td>\n      <td>17</td>\n      <td>$217.57</td>\n      <td>2010</td>\n    </tr>\n  </tbody>\n</table>\n</div>"
     },
     "metadata": {},
     "execution_count": 5
    }
   ],
   "source": [
    "\n",
    "    #QUESTIONS 1\n",
    "    #Print the first 10 records\n",
    "\n",
    "    df.head(10)"
   ]
  },
  {
   "cell_type": "code",
   "execution_count": 6,
   "metadata": {},
   "outputs": [
    {
     "output_type": "execute_result",
     "data": {
      "text/plain": [
       "Film                  object\n",
       "Genre                 object\n",
       "Lead Studio           object\n",
       "Audience score %       int64\n",
       "Profitability        float64\n",
       "Rotten Tomatoes %      int64\n",
       "Worldwide Gross       object\n",
       "Year                   int64\n",
       "dtype: object"
      ]
     },
     "metadata": {},
     "execution_count": 6
    }
   ],
   "source": [
    "#QUESTION 2\n",
    "#What are the data types\n",
    "\n",
    "df.dtypes"
   ]
  },
  {
   "cell_type": "code",
   "execution_count": 18,
   "metadata": {},
   "outputs": [
    {
     "output_type": "execute_result",
     "data": {
      "text/plain": [
       "Film                 4\n",
       "Genre                4\n",
       "Lead Studio          4\n",
       "Audience score %     4\n",
       "Profitability        4\n",
       "Rotten Tomatoes %    4\n",
       "Worldwide Gross      4\n",
       "Year                 4\n",
       "dtype: int64"
      ]
     },
     "metadata": {},
     "execution_count": 18
    }
   ],
   "source": [
    "#Question 3 \n",
    "#Count of Animation movies.(Hint: use the count() function)\n",
    "\n",
    "df[df['Genre'] == 'Animation'].count()\n",
    "\n"
   ]
  },
  {
   "cell_type": "code",
   "execution_count": 20,
   "metadata": {},
   "outputs": [
    {
     "output_type": "execute_result",
     "data": {
      "text/plain": [
       "                  Film   Genre   Lead Studio  Audience score %  Profitability  \\\n",
       "18  The Heartbreak Kid  Comedy     Paramount                41       2.129444   \n",
       "36     No Reservations  Comedy  Warner Bros.                64       3.307180   \n",
       "51      License to Wed  Comedy  Warner Bros.                55       1.980206   \n",
       "54          Knocked Up  Comedy     Universal                83       6.636402   \n",
       "62     Good Luck Chuck  Comedy     Lionsgate                61       2.367685   \n",
       "69           Enchanted  Comedy        Disney                80       4.005737   \n",
       "\n",
       "    Rotten Tomatoes % Worldwide Gross  Year  \n",
       "18                 30        $127.77   2007  \n",
       "36                 39         $92.60   2007  \n",
       "51                  8         $69.31   2007  \n",
       "54                 91           $219   2007  \n",
       "62                  3         $59.19   2007  \n",
       "69                 93        $340.49   2007  "
      ],
      "text/html": "<div>\n<style scoped>\n    .dataframe tbody tr th:only-of-type {\n        vertical-align: middle;\n    }\n\n    .dataframe tbody tr th {\n        vertical-align: top;\n    }\n\n    .dataframe thead th {\n        text-align: right;\n    }\n</style>\n<table border=\"1\" class=\"dataframe\">\n  <thead>\n    <tr style=\"text-align: right;\">\n      <th></th>\n      <th>Film</th>\n      <th>Genre</th>\n      <th>Lead Studio</th>\n      <th>Audience score %</th>\n      <th>Profitability</th>\n      <th>Rotten Tomatoes %</th>\n      <th>Worldwide Gross</th>\n      <th>Year</th>\n    </tr>\n  </thead>\n  <tbody>\n    <tr>\n      <th>18</th>\n      <td>The Heartbreak Kid</td>\n      <td>Comedy</td>\n      <td>Paramount</td>\n      <td>41</td>\n      <td>2.129444</td>\n      <td>30</td>\n      <td>$127.77</td>\n      <td>2007</td>\n    </tr>\n    <tr>\n      <th>36</th>\n      <td>No Reservations</td>\n      <td>Comedy</td>\n      <td>Warner Bros.</td>\n      <td>64</td>\n      <td>3.307180</td>\n      <td>39</td>\n      <td>$92.60</td>\n      <td>2007</td>\n    </tr>\n    <tr>\n      <th>51</th>\n      <td>License to Wed</td>\n      <td>Comedy</td>\n      <td>Warner Bros.</td>\n      <td>55</td>\n      <td>1.980206</td>\n      <td>8</td>\n      <td>$69.31</td>\n      <td>2007</td>\n    </tr>\n    <tr>\n      <th>54</th>\n      <td>Knocked Up</td>\n      <td>Comedy</td>\n      <td>Universal</td>\n      <td>83</td>\n      <td>6.636402</td>\n      <td>91</td>\n      <td>$219</td>\n      <td>2007</td>\n    </tr>\n    <tr>\n      <th>62</th>\n      <td>Good Luck Chuck</td>\n      <td>Comedy</td>\n      <td>Lionsgate</td>\n      <td>61</td>\n      <td>2.367685</td>\n      <td>3</td>\n      <td>$59.19</td>\n      <td>2007</td>\n    </tr>\n    <tr>\n      <th>69</th>\n      <td>Enchanted</td>\n      <td>Comedy</td>\n      <td>Disney</td>\n      <td>80</td>\n      <td>4.005737</td>\n      <td>93</td>\n      <td>$340.49</td>\n      <td>2007</td>\n    </tr>\n  </tbody>\n</table>\n</div>"
     },
     "metadata": {},
     "execution_count": 20
    }
   ],
   "source": [
    "#Question 4\n",
    "#Show the Comedy movies in the year 2007\n",
    "\n",
    "df[(df['Year'] == 2007) & (df['Genre'] == 'Comedy')]\n"
   ]
  },
  {
   "cell_type": "code",
   "execution_count": 24,
   "metadata": {},
   "outputs": [
    {
     "output_type": "execute_result",
     "data": {
      "text/plain": [
       "       Film      Genre Lead Studio  Audience score %  Profitability  \\\n",
       "6    WALL-E  Animation      Disney                89       2.896019   \n",
       "22  Tangled  Animation      Disney                88       1.365692   \n",
       "\n",
       "    Rotten Tomatoes % Worldwide Gross  Year  \n",
       "6                  96        $521.28   2008  \n",
       "22                 89        $355.01   2010  "
      ],
      "text/html": "<div>\n<style scoped>\n    .dataframe tbody tr th:only-of-type {\n        vertical-align: middle;\n    }\n\n    .dataframe tbody tr th {\n        vertical-align: top;\n    }\n\n    .dataframe thead th {\n        text-align: right;\n    }\n</style>\n<table border=\"1\" class=\"dataframe\">\n  <thead>\n    <tr style=\"text-align: right;\">\n      <th></th>\n      <th>Film</th>\n      <th>Genre</th>\n      <th>Lead Studio</th>\n      <th>Audience score %</th>\n      <th>Profitability</th>\n      <th>Rotten Tomatoes %</th>\n      <th>Worldwide Gross</th>\n      <th>Year</th>\n    </tr>\n  </thead>\n  <tbody>\n    <tr>\n      <th>6</th>\n      <td>WALL-E</td>\n      <td>Animation</td>\n      <td>Disney</td>\n      <td>89</td>\n      <td>2.896019</td>\n      <td>96</td>\n      <td>$521.28</td>\n      <td>2008</td>\n    </tr>\n    <tr>\n      <th>22</th>\n      <td>Tangled</td>\n      <td>Animation</td>\n      <td>Disney</td>\n      <td>88</td>\n      <td>1.365692</td>\n      <td>89</td>\n      <td>$355.01</td>\n      <td>2010</td>\n    </tr>\n  </tbody>\n</table>\n</div>"
     },
     "metadata": {},
     "execution_count": 24
    }
   ],
   "source": [
    "#Question 5\n",
    "#Count of Animation movies with more than 70% Audience Score.\n",
    "df[(df['Genre'] == 'Animation') & (df['Audience score %'] > 70)] \n"
   ]
  },
  {
   "cell_type": "code",
   "execution_count": 26,
   "metadata": {},
   "outputs": [
    {
     "output_type": "execute_result",
     "data": {
      "text/plain": [
       "                                  Film    Genre  Lead Studio  \\\n",
       "68                           Fireproof    Drama  Independent   \n",
       "60  High School Musical 3: Senior Year   Comedy       Disney   \n",
       "14         The Twilight Saga: New Moon    Drama       Summit   \n",
       "7                             Waitress  Romance  Independent   \n",
       "12                            Twilight  Romance       Summit   \n",
       "\n",
       "    Audience score %  Profitability  Rotten Tomatoes % Worldwide Gross  Year  \n",
       "68                51      66.934000                 40         $33.47   2008  \n",
       "60                76      22.913136                 65        $252.04   2008  \n",
       "14                78      14.196400                 27        $709.82   2009  \n",
       "7                 67      11.089741                 89         $22.18   2007  \n",
       "12                82      10.180027                 49        $376.66   2008  "
      ],
      "text/html": "<div>\n<style scoped>\n    .dataframe tbody tr th:only-of-type {\n        vertical-align: middle;\n    }\n\n    .dataframe tbody tr th {\n        vertical-align: top;\n    }\n\n    .dataframe thead th {\n        text-align: right;\n    }\n</style>\n<table border=\"1\" class=\"dataframe\">\n  <thead>\n    <tr style=\"text-align: right;\">\n      <th></th>\n      <th>Film</th>\n      <th>Genre</th>\n      <th>Lead Studio</th>\n      <th>Audience score %</th>\n      <th>Profitability</th>\n      <th>Rotten Tomatoes %</th>\n      <th>Worldwide Gross</th>\n      <th>Year</th>\n    </tr>\n  </thead>\n  <tbody>\n    <tr>\n      <th>68</th>\n      <td>Fireproof</td>\n      <td>Drama</td>\n      <td>Independent</td>\n      <td>51</td>\n      <td>66.934000</td>\n      <td>40</td>\n      <td>$33.47</td>\n      <td>2008</td>\n    </tr>\n    <tr>\n      <th>60</th>\n      <td>High School Musical 3: Senior Year</td>\n      <td>Comedy</td>\n      <td>Disney</td>\n      <td>76</td>\n      <td>22.913136</td>\n      <td>65</td>\n      <td>$252.04</td>\n      <td>2008</td>\n    </tr>\n    <tr>\n      <th>14</th>\n      <td>The Twilight Saga: New Moon</td>\n      <td>Drama</td>\n      <td>Summit</td>\n      <td>78</td>\n      <td>14.196400</td>\n      <td>27</td>\n      <td>$709.82</td>\n      <td>2009</td>\n    </tr>\n    <tr>\n      <th>7</th>\n      <td>Waitress</td>\n      <td>Romance</td>\n      <td>Independent</td>\n      <td>67</td>\n      <td>11.089741</td>\n      <td>89</td>\n      <td>$22.18</td>\n      <td>2007</td>\n    </tr>\n    <tr>\n      <th>12</th>\n      <td>Twilight</td>\n      <td>Romance</td>\n      <td>Summit</td>\n      <td>82</td>\n      <td>10.180027</td>\n      <td>49</td>\n      <td>$376.66</td>\n      <td>2008</td>\n    </tr>\n  </tbody>\n</table>\n</div>"
     },
     "metadata": {},
     "execution_count": 26
    }
   ],
   "source": [
    "#Question 6 \n",
    "# Show the list of top 5 movies based on profitability.\n",
    "df.sort_values(by = 'Profitability', ascending = False ).head(5)\n"
   ]
  },
  {
   "cell_type": "code",
   "execution_count": 33,
   "metadata": {},
   "outputs": [
    {
     "output_type": "execute_result",
     "data": {
      "text/plain": [
       "                Film   Genre   Lead Studio  Audience score %  Profitability  \\\n",
       "54        Knocked Up  Comedy     Universal                83       6.636402   \n",
       "27  Sex and the City  Comedy  Warner Bros.                81       7.221796   \n",
       "71         Beginners  Comedy   Independent                80       4.471875   \n",
       "69         Enchanted  Comedy        Disney                80       4.005737   \n",
       "44     Marley and Me  Comedy           Fox                77       3.746782   \n",
       "\n",
       "    Rotten Tomatoes % Worldwide Gross  Year  \n",
       "54                 91           $219   2007  \n",
       "27                 49        $415.25   2008  \n",
       "71                 84         $14.31   2011  \n",
       "69                 93        $340.49   2007  \n",
       "44                 63        $206.07   2008  "
      ],
      "text/html": "<div>\n<style scoped>\n    .dataframe tbody tr th:only-of-type {\n        vertical-align: middle;\n    }\n\n    .dataframe tbody tr th {\n        vertical-align: top;\n    }\n\n    .dataframe thead th {\n        text-align: right;\n    }\n</style>\n<table border=\"1\" class=\"dataframe\">\n  <thead>\n    <tr style=\"text-align: right;\">\n      <th></th>\n      <th>Film</th>\n      <th>Genre</th>\n      <th>Lead Studio</th>\n      <th>Audience score %</th>\n      <th>Profitability</th>\n      <th>Rotten Tomatoes %</th>\n      <th>Worldwide Gross</th>\n      <th>Year</th>\n    </tr>\n  </thead>\n  <tbody>\n    <tr>\n      <th>54</th>\n      <td>Knocked Up</td>\n      <td>Comedy</td>\n      <td>Universal</td>\n      <td>83</td>\n      <td>6.636402</td>\n      <td>91</td>\n      <td>$219</td>\n      <td>2007</td>\n    </tr>\n    <tr>\n      <th>27</th>\n      <td>Sex and the City</td>\n      <td>Comedy</td>\n      <td>Warner Bros.</td>\n      <td>81</td>\n      <td>7.221796</td>\n      <td>49</td>\n      <td>$415.25</td>\n      <td>2008</td>\n    </tr>\n    <tr>\n      <th>71</th>\n      <td>Beginners</td>\n      <td>Comedy</td>\n      <td>Independent</td>\n      <td>80</td>\n      <td>4.471875</td>\n      <td>84</td>\n      <td>$14.31</td>\n      <td>2011</td>\n    </tr>\n    <tr>\n      <th>69</th>\n      <td>Enchanted</td>\n      <td>Comedy</td>\n      <td>Disney</td>\n      <td>80</td>\n      <td>4.005737</td>\n      <td>93</td>\n      <td>$340.49</td>\n      <td>2007</td>\n    </tr>\n    <tr>\n      <th>44</th>\n      <td>Marley and Me</td>\n      <td>Comedy</td>\n      <td>Fox</td>\n      <td>77</td>\n      <td>3.746782</td>\n      <td>63</td>\n      <td>$206.07</td>\n      <td>2008</td>\n    </tr>\n  </tbody>\n</table>\n</div>"
     },
     "metadata": {},
     "execution_count": 33
    }
   ],
   "source": [
    "#Question 7\n",
    "# Show the top 5 Comedy movies approved by the audience. (hint : Audience Score)\n",
    "df[(df['Genre'] == 'Comedy')].sort_values(by = 'Audience score %', ascending = False ).head(5)\n"
   ]
  },
  {
   "cell_type": "code",
   "execution_count": null,
   "metadata": {},
   "outputs": [],
   "source": []
  }
 ]
}